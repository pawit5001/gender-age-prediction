{
 "cells": [
  {
   "cell_type": "code",
   "execution_count": 1,
   "id": "475cba36-3914-4b28-9db7-1e847ebfc331",
   "metadata": {
    "scrolled": true
   },
   "outputs": [],
   "source": [
    "from PIL import Image\n",
    "import gradio as gr\n",
    "import numpy as np\n",
    "import tensorflow as tf\n",
    "import time"
   ]
  },
  {
   "cell_type": "markdown",
   "id": "42d9bdb9-8745-4f96-a29e-a48b895d3258",
   "metadata": {},
   "source": [
    "# Gender"
   ]
  },
  {
   "cell_type": "code",
   "execution_count": 2,
   "id": "f8dbdf84-493c-4b8d-8d12-6f6ec67bf071",
   "metadata": {},
   "outputs": [],
   "source": [
    "model = tf.keras.models.load_model('GenderModel-Pro.keras')"
   ]
  },
  {
   "cell_type": "code",
   "execution_count": 3,
   "id": "d30442f8-8a26-426c-b9b0-470391bc879d",
   "metadata": {},
   "outputs": [],
   "source": [
    "def prepare_image(img):\n",
    "    if isinstance(img, np.ndarray):  \n",
    "        img = Image.fromarray(img)  \n",
    "    \n",
    "    img = img.convert(\"RGB\")  \n",
    "    img = img.resize((100, 100))  # image size\n",
    "    img_array = np.array(img)  \n",
    "    img_array = np.expand_dims(img_array, axis=0) \n",
    "    img_array = img_array / 255.0  # Normalize\n",
    "    return img_array"
   ]
  },
  {
   "cell_type": "code",
   "execution_count": 4,
   "id": "945db3a0-b7f3-45e8-ab2c-09348e7287c6",
   "metadata": {},
   "outputs": [],
   "source": [
    "def predict_gender(img, progress=gr.Progress()):\n",
    "    if img is None:\n",
    "        gr.Warning(\"⚠️ Please upload an image before submitting!\") \n",
    "        return \"No image uploaded!\"\n",
    "\n",
    "    progress(0, desc=\"Starting prediction...\")\n",
    "    time.sleep(1)  \n",
    "\n",
    "    img_array = prepare_image(img)\n",
    "    progress(0.5, desc=\"Processing image...\") \n",
    "\n",
    "    prediction = model.predict(img_array)[0][0]\n",
    "    gender = \"Male\" if prediction < 0.5 else \"Female\"\n",
    "\n",
    "    progress(1, desc=\"Prediction completed!\") \n",
    "    \n",
    "    return gender"
   ]
  },
  {
   "cell_type": "code",
   "execution_count": 5,
   "id": "5366c35a-91ff-46b3-92e7-94aed4f98fa6",
   "metadata": {
    "scrolled": true
   },
   "outputs": [
    {
     "name": "stdout",
     "output_type": "stream",
     "text": [
      "Running on local URL:  http://127.0.0.1:7860\n",
      "Running on public URL: https://aaac63ac784993f90f.gradio.live\n",
      "\n",
      "This share link expires in 72 hours. For free permanent hosting and GPU upgrades, run `gradio deploy` from Terminal to deploy to Spaces (https://huggingface.co/spaces)\n"
     ]
    },
    {
     "data": {
      "text/html": [
       "<div><iframe src=\"https://aaac63ac784993f90f.gradio.live\" width=\"100%\" height=\"500\" allow=\"autoplay; camera; microphone; clipboard-read; clipboard-write;\" frameborder=\"0\" allowfullscreen></iframe></div>"
      ],
      "text/plain": [
       "<IPython.core.display.HTML object>"
      ]
     },
     "metadata": {},
     "output_type": "display_data"
    },
    {
     "data": {
      "text/plain": []
     },
     "execution_count": 5,
     "metadata": {},
     "output_type": "execute_result"
    }
   ],
   "source": [
    "iface = gr.Interface(\n",
    "    fn=predict_gender,\n",
    "    inputs=gr.Image(type=\"pil\", scale=100, label=\"Upload an Image\"),\n",
    "    outputs=gr.Textbox(label=\"Predicted Gender\"), \n",
    "    title=\"Gender Prediction\",\n",
    "    theme=gr.themes.Base()\n",
    ")\n",
    "\n",
    "iface.launch(share=True)"
   ]
  },
  {
   "cell_type": "markdown",
   "id": "c51c470e-dbfc-4fc8-a3ad-f2fc0339ddcc",
   "metadata": {},
   "source": [
    "# Gender + Age"
   ]
  },
  {
   "cell_type": "code",
   "execution_count": 6,
   "id": "da67e658-e2d5-42a3-8502-864ea2dd1609",
   "metadata": {},
   "outputs": [],
   "source": [
    "model = tf.keras.models.load_model(\"AgeGenderModel-Pro.keras\")"
   ]
  },
  {
   "cell_type": "code",
   "execution_count": 7,
   "id": "b043582e-d8f3-4f1f-b148-69107c4da60a",
   "metadata": {},
   "outputs": [],
   "source": [
    "def predict_age_gender(img, progress=gr.Progress()):\n",
    "    if img is None:\n",
    "        gr.Warning(\"⚠️ Please upload an image before submitting!\")  \n",
    "        return \"No image uploaded!\" \n",
    "\n",
    "    progress(0, desc=\"Starting prediction...\") \n",
    "    time.sleep(1)\n",
    "\n",
    "    img = img.resize((100, 100))  # image size\n",
    "    img_array = np.array(img) / 255.0 \n",
    "\n",
    "    progress(0.5, desc=\"Processing image...\")\n",
    "    prediction = model.predict(np.expand_dims(img_array, axis=0))\n",
    "\n",
    "    gender_pred = prediction[0][0][0]  # (0 = Male, 1 = Female)\n",
    "    age_pred = prediction[1][0][0]     # age\n",
    "\n",
    "    gender = \"Male\" if gender_pred < 0.5 else \"Female\"\n",
    "\n",
    "    progress(1, desc=\"Prediction completed!\") \n",
    "    \n",
    "    return f\"Gender: {gender}, Age: {age_pred:.0f} years\""
   ]
  },
  {
   "cell_type": "code",
   "execution_count": 8,
   "id": "65d9ca6f-e393-4408-b497-8f2dfdad54ce",
   "metadata": {
    "scrolled": true
   },
   "outputs": [
    {
     "name": "stdout",
     "output_type": "stream",
     "text": [
      "Running on local URL:  http://127.0.0.1:7861\n",
      "Running on public URL: https://2a7e6e7fe04b3da0db.gradio.live\n",
      "\n",
      "This share link expires in 72 hours. For free permanent hosting and GPU upgrades, run `gradio deploy` from Terminal to deploy to Spaces (https://huggingface.co/spaces)\n"
     ]
    },
    {
     "data": {
      "text/html": [
       "<div><iframe src=\"https://2a7e6e7fe04b3da0db.gradio.live\" width=\"100%\" height=\"500\" allow=\"autoplay; camera; microphone; clipboard-read; clipboard-write;\" frameborder=\"0\" allowfullscreen></iframe></div>"
      ],
      "text/plain": [
       "<IPython.core.display.HTML object>"
      ]
     },
     "metadata": {},
     "output_type": "display_data"
    },
    {
     "data": {
      "text/plain": []
     },
     "execution_count": 8,
     "metadata": {},
     "output_type": "execute_result"
    },
    {
     "name": "stdout",
     "output_type": "stream",
     "text": [
      "1/1 [==============================] - 3s 3s/step\n",
      "1/1 [==============================] - 0s 13ms/step\n",
      "1/1 [==============================] - 0s 16ms/step\n"
     ]
    }
   ],
   "source": [
    "iface = gr.Interface(\n",
    "    fn=predict_age_gender,\n",
    "    inputs=gr.Image(type=\"pil\", scale=100, label=\"Upload an Image\"),\n",
    "    outputs=gr.Textbox(label=\"Predicted Gender and Age\"), \n",
    "    title=\"Gender and Age Prediction\",\n",
    "    theme=gr.themes.Base()\n",
    ")\n",
    "\n",
    "iface.launch(share=True)"
   ]
  },
  {
   "cell_type": "code",
   "execution_count": null,
   "id": "645d67f7-f387-4b62-9068-3ae6884342a4",
   "metadata": {},
   "outputs": [],
   "source": []
  }
 ],
 "metadata": {
  "kernelspec": {
   "display_name": "Python 3 (ipykernel)",
   "language": "python",
   "name": "python3"
  },
  "language_info": {
   "codemirror_mode": {
    "name": "ipython",
    "version": 3
   },
   "file_extension": ".py",
   "mimetype": "text/x-python",
   "name": "python",
   "nbconvert_exporter": "python",
   "pygments_lexer": "ipython3",
   "version": "3.9.21"
  }
 },
 "nbformat": 4,
 "nbformat_minor": 5
}
